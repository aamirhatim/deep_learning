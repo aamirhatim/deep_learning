{
 "cells": [
  {
   "cell_type": "markdown",
   "metadata": {},
   "source": [
    "#### Name: Aamir Husain"
   ]
  },
  {
   "cell_type": "markdown",
   "metadata": {},
   "source": [
    "# Deep learning from scratch\n",
    "## Homework 4\n",
    "### Exercise 1\n",
    "\n",
    "-----\n",
    "\n",
    "\n",
    "### When submitting this homework:\n",
    "\n",
    "Make sure you have put your name at the top of each file\n",
    "    \n",
    "Make sure all output is present in your notebook prior to submission\n",
    "\n",
    "----"
   ]
  },
  {
   "cell_type": "markdown",
   "metadata": {},
   "source": [
    "## <span style=\"color:#a50e3e;\">Exercise 1. </span>   True or False?"
   ]
  },
  {
   "cell_type": "markdown",
   "metadata": {},
   "source": [
    "A convolutional layer that uses ```ReLU```, i.e., $\\max{\\left(0, \\cdot\\right)}$, as nonlinear activation together with ```max-pooling```, is redundant in the sense that we can simplify the architecture by removing the nonlinear activation module in the middle without changing the overall results. Is that true or false? Explain.\n",
    "\n",
    "<figure><img src=\"images/conv_layer.png\" width=\"90%\"></figure>"
   ]
  },
  {
   "cell_type": "markdown",
   "metadata": {},
   "source": [
    "#### False. The nonlinear activation and max pooling steps accomplish different tasks. The ReLU activation allows us to extract features from the convolution while pooling reduces the dimension of the data to do further feature extraction or to prepare the data to send into an MLP."
   ]
  }
 ],
 "metadata": {
  "kernelspec": {
   "display_name": "Python 3",
   "language": "python",
   "name": "python3"
  },
  "language_info": {
   "codemirror_mode": {
    "name": "ipython",
    "version": 3
   },
   "file_extension": ".py",
   "mimetype": "text/x-python",
   "name": "python",
   "nbconvert_exporter": "python",
   "pygments_lexer": "ipython3",
   "version": "3.6.4"
  },
  "toc": {
   "colors": {
    "hover_highlight": "#DAA520",
    "navigate_num": "#000000",
    "navigate_text": "#333333",
    "running_highlight": "#FF0000",
    "selected_highlight": "#FFD700",
    "sidebar_border": "#EEEEEE",
    "wrapper_background": "#FFFFFF"
   },
   "moveMenuLeft": true,
   "nav_menu": {
    "height": "142px",
    "width": "252px"
   },
   "navigate_menu": true,
   "number_sections": true,
   "sideBar": true,
   "threshold": 4,
   "toc_cell": false,
   "toc_section_display": "block",
   "toc_window_display": false,
   "widenNotebook": false
  }
 },
 "nbformat": 4,
 "nbformat_minor": 2
}
