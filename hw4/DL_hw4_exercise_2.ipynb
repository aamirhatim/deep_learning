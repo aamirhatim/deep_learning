{
 "cells": [
  {
   "cell_type": "markdown",
   "metadata": {},
   "source": [
    "#### Name: Aamir Husain"
   ]
  },
  {
   "cell_type": "markdown",
   "metadata": {},
   "source": [
    "# Deep learning from scratch\n",
    "## Homework 3\n",
    "### Exercise 2\n",
    "\n",
    "-----\n",
    "\n",
    "### When submitting this homework:\n",
    "\n",
    "Make sure you have put your name at the top of each file\n",
    "    \n",
    "Make sure all output is present in your notebook prior to submission\n",
    "\n",
    "----"
   ]
  },
  {
   "cell_type": "markdown",
   "metadata": {},
   "source": [
    "## <span style=\"color:#a50e3e;\">Exercise 2. </span> Counting MLP weights"
   ]
  },
  {
   "cell_type": "markdown",
   "metadata": {},
   "source": [
    "**Part 1.** Derive a simple formula for counting the total number of tunable weights in a general $L$ hidden-layer neural network - used for multiclass classification on a dataset with $P$ points - where the $\\ell$th hidden-layer contains $U_{\\ell}$ units ($1\\leq \\ell \\leq L$).\n",
    "\n",
    "Note:\n",
    "\n",
    "- Do not forget to include bias weights in your formula.\n",
    "\n",
    "- In your formula assume the input and output are $U_{0}$ and $U_{L+1}$ dimensional, respectively.\n",
    "\n",
    "- See [Section 13.1 of the course notes](https://jermwatt.github.io/mlrefined/blog_posts/13_Multilayer_perceptrons/13_1_Multi_layer_perceptrons.html) to refresh your memory."
   ]
  },
  {
   "cell_type": "markdown",
   "metadata": {},
   "source": [
    "For each hidden layer we have a weight matrix consisting of $U_l$ columns where $U_l$ is the number of single layer units of the $l^{th}$ layer out of $L$ total layers. For each column, we have $U_{L-1}$ input parameters as well as a bias, giving us a total of $U_{L-1}+1$ input parameters per unit. To get the total number of weights for this layer, we can use the formula $$W_l=(U_{L-1}+1)U_l$$\n",
    "\n",
    "To get the total number of tuneable weights for a MLP, we can add the the number of elements of each weight matrix for every hidden layer: $$W_L=\\sum_{l=1}^{L} (U_{l-1}+1)U_l$$"
   ]
  },
  {
   "cell_type": "markdown",
   "metadata": {},
   "source": [
    "**Part 2.** Based on your answer in Part 1, when dealing with very high dimensional input data do you set $U_1$ - the number of units in the first hidden layer - to be relatively small or relatively large? why? "
   ]
  },
  {
   "cell_type": "markdown",
   "metadata": {},
   "source": [
    "You would want it to be relatively small so that the number of weights does not explode with increasing layers."
   ]
  },
  {
   "cell_type": "markdown",
   "metadata": {},
   "source": [
    "**Part 3.** Based on your formula in Part 1, how does the number of tunable weights change with the dataset size $P$?"
   ]
  },
  {
   "cell_type": "markdown",
   "metadata": {},
   "source": [
    "The number of data points does not change the number of weights in the MLP."
   ]
  }
 ],
 "metadata": {
  "kernelspec": {
   "display_name": "Python 3",
   "language": "python",
   "name": "python3"
  },
  "language_info": {
   "codemirror_mode": {
    "name": "ipython",
    "version": 3
   },
   "file_extension": ".py",
   "mimetype": "text/x-python",
   "name": "python",
   "nbconvert_exporter": "python",
   "pygments_lexer": "ipython3",
   "version": "3.6.4"
  },
  "toc": {
   "colors": {
    "hover_highlight": "#DAA520",
    "navigate_num": "#000000",
    "navigate_text": "#333333",
    "running_highlight": "#FF0000",
    "selected_highlight": "#FFD700",
    "sidebar_border": "#EEEEEE",
    "wrapper_background": "#FFFFFF"
   },
   "moveMenuLeft": true,
   "nav_menu": {
    "height": "143px",
    "width": "252px"
   },
   "navigate_menu": true,
   "number_sections": true,
   "sideBar": true,
   "threshold": 4,
   "toc_cell": false,
   "toc_section_display": "block",
   "toc_window_display": false,
   "widenNotebook": false
  },
  "widgets": {
   "application/vnd.jupyter.widget-state+json": {
    "state": {},
    "version_major": 1,
    "version_minor": 0
   }
  }
 },
 "nbformat": 4,
 "nbformat_minor": 2
}
