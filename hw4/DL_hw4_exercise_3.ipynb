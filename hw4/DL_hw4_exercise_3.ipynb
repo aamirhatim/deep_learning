{
 "cells": [
  {
   "cell_type": "markdown",
   "metadata": {},
   "source": [
    "#### Name:"
   ]
  },
  {
   "cell_type": "markdown",
   "metadata": {},
   "source": [
    "# Deep learning from scratch\n",
    "## Homework 4\n",
    "### Exercise 3\n",
    "\n",
    "-----"
   ]
  },
  {
   "cell_type": "markdown",
   "metadata": {},
   "source": [
    "### When submitting this homework:\n",
    "\n",
    "Make sure you have put your name at the top of each file\n",
    "    \n",
    "Make sure all output is present in your notebook prior to submission\n",
    "\n",
    "----"
   ]
  },
  {
   "cell_type": "markdown",
   "metadata": {},
   "source": [
    "## <span style=\"color:#a50e3e;\">Exercise 3. </span> Counting the number of tunable weights in a two-layer CNN"
   ]
  },
  {
   "cell_type": "markdown",
   "metadata": {},
   "source": [
    "Suppose you want to perform a multiclass image classification task using a two-layer convolutional neural network (shown below) on a training dataset consisting of $P = 60,000$ color (RGB) input images, each of size $32 \\times 32$ pixel. There are a total of $C=100$ classes in the data, and the parameters of the CNN architecture are given as follows \n",
    "\n",
    "<figure><img src=\"images/CNN_pipeline.png\"></figure>"
   ]
  },
  {
   "cell_type": "markdown",
   "metadata": {},
   "source": [
    "First convolutional layer parameters:\n",
    "\n",
    "- Number of convolutional kernels: $k_1 = 15$\n",
    "- Convolution padding: True\n",
    "- Convolutional stride = 1\n",
    "- Size of each convolutional kernel: $3\\times 3 \\times 3$\n",
    "- Pooling window size: $6\\times 6$, i.e., $q_1=6$ \n",
    "- Pooling stride: $s_1 = 2$ \n",
    "\n",
    "Second convolutional layer parameters:\n",
    "\n",
    "- Number of convolutional kernels: $k_2 = 25$\n",
    "- Convolution padding: True\n",
    "- Convolutional stride = 1\n",
    "- Size of each convolutional kernel: $5\\times 5 \\times 15$\n",
    "- Pooling window size: $2\\times 2$, i.e., $q_2=2$\n",
    "- Pooling stride: $s_2 = 2$\n",
    "\n",
    "MLP parameters:\n",
    "\n",
    "- Number of hidden layers: $L = 2$\n",
    "- Number of units/neurons per hidden layer: $U_1 = U_2 = 10$\n",
    "\n",
    "\n",
    "In this exercise you will find the total number of weights (convolutional+MLP) in this CNN architecture. \n",
    "\n",
    "Note: don't forget to count the bias weights! Assume there is a bias weight associated with each convolutional kernel as well as each MLP layer.  "
   ]
  },
  {
   "cell_type": "markdown",
   "metadata": {},
   "source": [
    "#### Your answer goes here."
   ]
  }
 ],
 "metadata": {
  "anaconda-cloud": {},
  "kernelspec": {
   "display_name": "Python 3",
   "language": "python",
   "name": "python3"
  },
  "language_info": {
   "codemirror_mode": {
    "name": "ipython",
    "version": 3
   },
   "file_extension": ".py",
   "mimetype": "text/x-python",
   "name": "python",
   "nbconvert_exporter": "python",
   "pygments_lexer": "ipython3",
   "version": "3.5.0"
  },
  "toc": {
   "colors": {
    "hover_highlight": "#DAA520",
    "navigate_num": "#000000",
    "navigate_text": "#333333",
    "running_highlight": "#FF0000",
    "selected_highlight": "#FFD700",
    "sidebar_border": "#EEEEEE",
    "wrapper_background": "#FFFFFF"
   },
   "moveMenuLeft": true,
   "nav_menu": {
    "height": "30px",
    "width": "252px"
   },
   "navigate_menu": true,
   "number_sections": false,
   "sideBar": true,
   "threshold": 4,
   "toc_cell": false,
   "toc_section_display": "block",
   "toc_window_display": false,
   "widenNotebook": false
  },
  "widgets": {
   "application/vnd.jupyter.widget-state+json": {
    "state": {},
    "version_major": 1,
    "version_minor": 0
   }
  }
 },
 "nbformat": 4,
 "nbformat_minor": 1
}
