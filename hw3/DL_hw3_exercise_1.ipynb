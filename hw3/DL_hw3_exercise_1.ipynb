{
 "cells": [
  {
   "cell_type": "markdown",
   "metadata": {},
   "source": [
    "#### Name: Aamir Husain"
   ]
  },
  {
   "cell_type": "markdown",
   "metadata": {},
   "source": [
    "# Deep learning from scratch\n",
    "## Homework 3\n",
    "### Exercise 1\n",
    "\n",
    "-----\n",
    "\n",
    "### General instructions\n",
    "\n",
    "Complete the exercise listed below in this Jupyter notebook - leaving all of your code in Python cells in the notebook itself.  Feel free to add any necessary cells. \n",
    "\n",
    "### When submitting this homework:\n",
    "\n",
    "Make sure you have put your name at the top of each file\n",
    "    \n",
    "Make sure all output is present in your notebook prior to submission\n",
    "\n",
    "----"
   ]
  },
  {
   "cell_type": "markdown",
   "metadata": {},
   "source": [
    "## <span style=\"color:#a50e3e;\">Exercise 1. </span>   Build your own basic deep learning library!"
   ]
  },
  {
   "cell_type": "markdown",
   "metadata": {},
   "source": [
    "We are now at the point where we have enough pieces of code - for optimization, cost functions, normalizers, feature transformations, etc., that we need to get organized so that we can use it more effectively.  This is where the notion of a coding *library* comes in - in `Python` this is called a *module* - which will help us organize our many snippets of code, and make all of our deep learning easier to use.  \n",
    "\n",
    "In this exercise you will put together your own basic deep learning library (again, this is called a *module* in `Python`, if you have never heard of this concept learn more about it via Google!) using the functionality detailed in Chapters 6-13 of the text.  Getting all of these various files organized now will help us move forward much more effectively as we discuss and build new kinds of network architectures (feature transformations), optimization tricks, etc.\n",
    "\n",
    "Your library should consist of a single directory called `my_first_DL_lib` that must include *at least* the following files:\n",
    "\n",
    "1) `normalizers.py`: containing a standard normalizer (from e.g., 8.4)\n",
    "\n",
    "2) `optimizers.py`: containing a gradient descent algorithm\n",
    "\n",
    "3) `cost_functions.py`: containing a set of the common cost functions including: Least Squares, two-class softmax, and multiclass softmax costs (from Chapters 8 - 10)\n",
    "\n",
    "4) `multilayer_perceptrons.py`: containing a general multilayer perceptron `feature_transforms` function (from 13.1)\n",
    "\n",
    "5) `history_plotter.py`: containing a set of plotting tools for plotting cost function and misclassification histories from a run of any local optimization scheme\n",
    "\n",
    "6) `__init__.py`: a blank `.py` file required in order for `Python` to recognize your directory of files as a `module` (see this helpful [Stack](https://stackoverflow.com/questions/448271/what-is-init-py-for) Q & A if you've never heard of this before!)"
   ]
  },
  {
   "cell_type": "markdown",
   "metadata": {},
   "source": [
    "Build whatever kind of user-interface that allows you to easily interact with these functionalities.  To be clear, because you are wrapping up these files into a `Python` module, you should be able to *import* them like you would any other library.  So if you import your library as \n",
    "\n",
    "``import my_first_DL_lib as mylib``\n",
    "\n",
    "then you should be able to use all files located inside of your `my_first_DL_lib` directory, e.g., your `optimizers.py` functionality as \n",
    "\n",
    "``mylib.optimizers``\n",
    "\n",
    "Show off your library in this Jupyter notebook by performing nonlinear multiclass classification using the toy dataset shown below (located in *3eggs_multiclass.csv* in the datasets directory).  "
   ]
  },
  {
   "cell_type": "markdown",
   "metadata": {
    "collapsed": true
   },
   "source": [
    "<figure><img src=\"images/3eggs_multiclass.png\" width=\"50%\" height=\"auto\"></figure>"
   ]
  },
  {
   "cell_type": "markdown",
   "metadata": {},
   "source": [
    "In doing this you will\n",
    "\n",
    "- choose your own MLP architecture (i.e., the number of layers and units per layer of your network `feature_transformation`)\n",
    "\n",
    "\n",
    "- produce a misclassification and cost function history plot for your run of gradient descent\n",
    "\n",
    "You should be able to perfectly classify this dataset in fewer than 500 steps of gradient descent if you have chosen a flexible enough network structure"
   ]
  },
  {
   "cell_type": "code",
   "execution_count": 2,
   "metadata": {
    "scrolled": true
   },
   "outputs": [
    {
     "data": {
      "image/png": "[encoded data removed]",
      "text/plain": [
       "<matplotlib.figure.Figure at 0x7f425da89320>"
      ]
     },
     "metadata": {},
     "output_type": "display_data"
    }
   ],
   "source": [
    "from dl_lib import deep_learner as DL\n",
    "import autograd.numpy as np\n",
    "\n",
    "# Import data\n",
    "csvname = \"datasets/3eggs_multiclass.csv\"\n",
    "data = np.loadtxt(csvname, delimiter = \",\")\n",
    "data = data.T\n",
    "\n",
    "# Extract inputs and outputs\n",
    "x = data[:,:-1].T\n",
    "y = data[:,-1:].T ## When using Least Squares for the cost function, remove the transpose for y\n",
    "\n",
    "# Initialize the network with input and output data\n",
    "dl = DL.Setup(x, y)\n",
    "\n",
    "# Choose feature transforms\n",
    "dl.choose_features(name='multilayer_perceptron', layer_sizes = [2,30,30], scale=0.5, activation = 'relu')\n",
    "\n",
    "# Choose what normalizer to use\n",
    "dl.choose_normalizer(name='standard')\n",
    "\n",
    "# Choose the cost function\n",
    "dl.choose_cost(name='multiclass_softmax')\n",
    "\n",
    "# Run optimizer to find the best fit\n",
    "dl.optimize(alpha_choice=1)\n",
    "\n",
    "# Show cost and misclassifiction history\n",
    "dl.show_history()"
   ]
  }
 ],
 "metadata": {
  "kernelspec": {
   "display_name": "Python 3",
   "language": "python",
   "name": "python3"
  },
  "language_info": {
   "codemirror_mode": {
    "name": "ipython",
    "version": 3
   },
   "file_extension": ".py",
   "mimetype": "text/x-python",
   "name": "python",
   "nbconvert_exporter": "python",
   "pygments_lexer": "ipython3",
   "version": "3.6.4"
  },
  "toc": {
   "colors": {
    "hover_highlight": "#DAA520",
    "navigate_num": "#000000",
    "navigate_text": "#333333",
    "running_highlight": "#FF0000",
    "selected_highlight": "#FFD700",
    "sidebar_border": "#EEEEEE",
    "wrapper_background": "#FFFFFF"
   },
   "moveMenuLeft": true,
   "nav_menu": {
    "height": "142px",
    "width": "252px"
   },
   "navigate_menu": true,
   "number_sections": true,
   "sideBar": true,
   "threshold": 4,
   "toc_cell": false,
   "toc_section_display": "block",
   "toc_window_display": false,
   "widenNotebook": false
  }
 },
 "nbformat": 4,
 "nbformat_minor": 2
}
