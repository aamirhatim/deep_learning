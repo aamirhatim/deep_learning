{
 "cells": [
  {
   "cell_type": "markdown",
   "metadata": {},
   "source": [
    "#### Name:"
   ]
  },
  {
   "cell_type": "markdown",
   "metadata": {},
   "source": [
    "# Deep learning from scratch\n",
    "## Homework 3\n",
    "### Exercise 2\n",
    "\n",
    "-----\n",
    "\n",
    "### General instructions\n",
    "\n",
    "Complete the exercise listed below in this Jupyter notebook - leaving all of your code in Python cells in the notebook itself.  Feel free to add any necessary cells. \n",
    "\n",
    "### When submitting this homework:\n",
    "\n",
    "Make sure you have put your name at the top of each file\n",
    "    \n",
    "Make sure all output is present in your notebook prior to submission\n",
    "\n",
    "----"
   ]
  },
  {
   "cell_type": "markdown",
   "metadata": {},
   "source": [
    "## <span style=\"color:#a50e3e;\">Exercise 2. </span>  Implement the ``maxout`` activation function"
   ]
  },
  {
   "cell_type": "markdown",
   "metadata": {},
   "source": [
    "So far we have seen various activation functions, most notably the tanh and relu functions defined below\n",
    "\n",
    "\\begin{array}\n",
    "\\\n",
    "a(x) = \\text{tanh}(w_0 + w_1x) \\\\\n",
    "a(x) = \\text{max}(0,w_0 + w_1x) \\\\\n",
    "\\end{array}\n",
    "\n",
    "In this exercise you will implement the so-called [*maxout* activation](https://arxiv.org/pdf/1302.4389.pdf).  This function, defined as\n",
    "\n",
    "\\begin{array}\n",
    "\\\n",
    "a(x) = \\text{max}(v_0 + v_1x, \\,w_0 + w_1x) \\\\\n",
    "\\end{array}\n",
    "\n",
    "this activation takes maximum of two linear combinations of the input, instead of one linear combination and zero like the relu function.  While this change is algebraically rather minor, multilayer perceptron architectures employing the *maxout* activation tends to have certain advantages over those employing tanh and relu activations, including\n",
    "\n",
    "- fewer issues with problematic initialization, e.g., values close too (or equal to) zero for the *relu* activation are bad because the relu is minimized at zero\n",
    "\n",
    "- fewer issues with gradients vanishing or exploding, as can occur when using the tanh activation\n",
    "\n",
    "- faster convergence with far fewer gradient descent steps\n",
    "\n",
    "These advantages come with a simple price: the maxout activation has twice as many internal parameters as either the relu or tanh, hence architectures built with them have roughly twice as many parameters to tune."
   ]
  },
  {
   "cell_type": "markdown",
   "metadata": {},
   "source": [
    "Implement this activation and appropriately adjust the corresponding  `Python` code so that you can build MLP feature transformations using the maxout activation.  The necessary code block adjustments include\n",
    "\n",
    "- changing the nonlinearity used in the function ``activation``\n",
    "\n",
    "- adjusting the `feature_transform` function that computes the MLP\n",
    "\n",
    "- adjusting the weight initialization module so that instead of creating one random weight matrix per hidden layer, you create and store two random weight matrices of identical size for every layer of the network\n",
    "\n",
    "and add this new functionality to your deep learning library `my_first_DL_lib`."
   ]
  },
  {
   "cell_type": "markdown",
   "metadata": {},
   "source": [
    "Test out your code using a 5 layer input / activation output normalized architecture with 10 units in each layer, and fit this using a maximum of 200 steps of gradient descent to our prototype nonlinear regression dataset (the noisy sinusoidal dataset) - which you will find in the `datasets` directory.  Within this number of steps you should be able to achieve a very good fit to the dataset (so you will want to plot your fit after training!). Use a steplength parameter $\\alpha$ of the form $10^{-\\gamma}$ where $\\gamma$ is the smallest positive integer that produces convergence with your random initial set of weights."
   ]
  },
  {
   "cell_type": "markdown",
   "metadata": {},
   "source": [
    "**You should turn in:**\n",
    "    \n",
    "**1)** your adjusted code blocks\n",
    "    \n",
    "**2)** a cost function plot for your run of gradient descent that achieves the desired goal\n",
    "\n",
    "**3)** a plot showing your tuned model - using the best weights you found from your descent run - fit to the data (this model should overfit the given data)"
   ]
  },
  {
   "cell_type": "code",
   "execution_count": 3,
   "metadata": {},
   "outputs": [
    {
     "name": "stdout",
     "output_type": "stream",
     "text": [
      "[[ 0.88039947  0.14112979 -0.52412634  1.17736084 -1.16385913  1.40521539\n",
      "   1.9850776  -1.23280101 -1.35002694 -0.48347043  0.5134654  -0.23883397\n",
      "   0.26977731  0.09387656 -0.1845711  -1.06201318 -0.38537669  1.56833385\n",
      "  -1.85151312  0.22718343  0.21477225]]\n",
      "[[-0.99147  -0.41632   0.97764  -0.61354   1.2788   -1.1745   -0.34193\n",
      "   0.60278   0.75034   1.0266   -0.48369   0.67935  -0.10388  -0.031348\n",
      "   0.4147    0.88859   0.61248  -0.97585   0.44822   0.042831 -0.24897 ]]\n"
     ]
    },
    {
     "ename": "TypeError",
     "evalue": "list indices must be integers or slices, not tuple",
     "output_type": "error",
     "traceback": [
      "\u001b[0;31m---------------------------------------------------------------------------\u001b[0m",
      "\u001b[0;31mTypeError\u001b[0m                                 Traceback (most recent call last)",
      "\u001b[0;32m<ipython-input-3-30ddf85468f8>\u001b[0m in \u001b[0;36m<module>\u001b[0;34m()\u001b[0m\n\u001b[1;32m     32\u001b[0m \u001b[0;34m\u001b[0m\u001b[0m\n\u001b[1;32m     33\u001b[0m \u001b[0;31m# Plot best fit\u001b[0m\u001b[0;34m\u001b[0m\u001b[0;34m\u001b[0m\u001b[0m\n\u001b[0;32m---> 34\u001b[0;31m \u001b[0mdl\u001b[0m\u001b[0;34m.\u001b[0m\u001b[0mplot_model\u001b[0m\u001b[0;34m(\u001b[0m\u001b[0;34m)\u001b[0m\u001b[0;34m\u001b[0m\u001b[0m\n\u001b[0m\u001b[1;32m     35\u001b[0m \u001b[0;31m# print(dl.model)\u001b[0m\u001b[0;34m\u001b[0m\u001b[0;34m\u001b[0m\u001b[0m\n",
      "\u001b[0;32m~/School/Quarter 3/eecs_395 Deep Learning from Scratch/hw3/dl_lib/deep_learner.py\u001b[0m in \u001b[0;36mplot_model\u001b[0;34m(self, **kwargs)\u001b[0m\n\u001b[1;32m     89\u001b[0m         \u001b[0mVisualization\u001b[0m \u001b[0mof\u001b[0m \u001b[0ma\u001b[0m \u001b[0mbest\u001b[0m \u001b[0mfit\u001b[0m \u001b[0mmodel\u001b[0m\u001b[0;34m\u001b[0m\u001b[0m\n\u001b[1;32m     90\u001b[0m         '''\n\u001b[0;32m---> 91\u001b[0;31m         \u001b[0mHistory\u001b[0m\u001b[0;34m.\u001b[0m\u001b[0mModel\u001b[0m\u001b[0;34m(\u001b[0m\u001b[0mself\u001b[0m\u001b[0;34m.\u001b[0m\u001b[0mx\u001b[0m\u001b[0;34m,\u001b[0m \u001b[0mself\u001b[0m\u001b[0;34m.\u001b[0m\u001b[0my\u001b[0m\u001b[0;34m,\u001b[0m \u001b[0mself\u001b[0m\u001b[0;34m.\u001b[0m\u001b[0mweights\u001b[0m\u001b[0;34m,\u001b[0m \u001b[0mself\u001b[0m\u001b[0;34m.\u001b[0m\u001b[0mmodel\u001b[0m\u001b[0;34m)\u001b[0m\u001b[0;34m\u001b[0m\u001b[0m\n\u001b[0m",
      "\u001b[0;32m~/School/Quarter 3/eecs_395 Deep Learning from Scratch/hw3/dl_lib/history_plotter.py\u001b[0m in \u001b[0;36m__init__\u001b[0;34m(self, x, y, weights, model)\u001b[0m\n\u001b[1;32m     42\u001b[0m         \u001b[0mprint\u001b[0m\u001b[0;34m(\u001b[0m\u001b[0mx\u001b[0m\u001b[0;34m)\u001b[0m\u001b[0;34m\u001b[0m\u001b[0m\n\u001b[1;32m     43\u001b[0m         \u001b[0mprint\u001b[0m\u001b[0;34m(\u001b[0m\u001b[0my\u001b[0m\u001b[0;34m)\u001b[0m\u001b[0;34m\u001b[0m\u001b[0m\n\u001b[0;32m---> 44\u001b[0;31m         \u001b[0my_model\u001b[0m \u001b[0;34m=\u001b[0m \u001b[0mmodel\u001b[0m\u001b[0;34m(\u001b[0m\u001b[0mx\u001b[0m\u001b[0;34m,\u001b[0m \u001b[0mweights\u001b[0m\u001b[0;34m)\u001b[0m\u001b[0;34m\u001b[0m\u001b[0m\n\u001b[0m\u001b[1;32m     45\u001b[0m         \u001b[0mprint\u001b[0m\u001b[0;34m(\u001b[0m\u001b[0my_model\u001b[0m\u001b[0;34m)\u001b[0m\u001b[0;34m\u001b[0m\u001b[0m\n",
      "\u001b[0;32m~/School/Quarter 3/eecs_395 Deep Learning from Scratch/hw3/dl_lib/cost_functions.py\u001b[0m in \u001b[0;36mmodel\u001b[0;34m(self, x, w)\u001b[0m\n\u001b[1;32m     29\u001b[0m         \u001b[0mf\u001b[0m \u001b[0;34m=\u001b[0m \u001b[0;36m0\u001b[0m\u001b[0;34m\u001b[0m\u001b[0m\n\u001b[1;32m     30\u001b[0m         \u001b[0;32mif\u001b[0m \u001b[0mlen\u001b[0m\u001b[0;34m(\u001b[0m\u001b[0mself\u001b[0m\u001b[0;34m.\u001b[0m\u001b[0msig\u001b[0m\u001b[0;34m.\u001b[0m\u001b[0mparameters\u001b[0m\u001b[0;34m)\u001b[0m \u001b[0;34m==\u001b[0m \u001b[0;36m2\u001b[0m\u001b[0;34m:\u001b[0m\u001b[0;34m\u001b[0m\u001b[0m\n\u001b[0;32m---> 31\u001b[0;31m             \u001b[0mf\u001b[0m \u001b[0;34m=\u001b[0m \u001b[0mself\u001b[0m\u001b[0;34m.\u001b[0m\u001b[0mfeature_transforms\u001b[0m\u001b[0;34m(\u001b[0m\u001b[0mx\u001b[0m\u001b[0;34m,\u001b[0m\u001b[0mw\u001b[0m\u001b[0;34m[\u001b[0m\u001b[0;36m0\u001b[0m\u001b[0;34m]\u001b[0m\u001b[0;34m)\u001b[0m\u001b[0;34m\u001b[0m\u001b[0m\n\u001b[0m\u001b[1;32m     32\u001b[0m         \u001b[0;32melse\u001b[0m\u001b[0;34m:\u001b[0m\u001b[0;34m\u001b[0m\u001b[0m\n\u001b[1;32m     33\u001b[0m             \u001b[0mf\u001b[0m \u001b[0;34m=\u001b[0m \u001b[0mself\u001b[0m\u001b[0;34m.\u001b[0m\u001b[0mfeature_transforms\u001b[0m\u001b[0;34m(\u001b[0m\u001b[0mx\u001b[0m\u001b[0;34m)\u001b[0m\u001b[0;34m\u001b[0m\u001b[0m\n",
      "\u001b[0;32m~/School/Quarter 3/eecs_395 Deep Learning from Scratch/hw3/dl_lib/multilayer_perceptrons.py\u001b[0m in \u001b[0;36mmaxout_feature_transforms\u001b[0;34m(self, a, w)\u001b[0m\n\u001b[1;32m     98\u001b[0m     \u001b[0;32mdef\u001b[0m \u001b[0mmaxout_feature_transforms\u001b[0m\u001b[0;34m(\u001b[0m\u001b[0mself\u001b[0m\u001b[0;34m,\u001b[0m \u001b[0ma\u001b[0m\u001b[0;34m,\u001b[0m \u001b[0mw\u001b[0m\u001b[0;34m)\u001b[0m\u001b[0;34m:\u001b[0m\u001b[0;34m\u001b[0m\u001b[0m\n\u001b[1;32m     99\u001b[0m         \u001b[0;32mfor\u001b[0m \u001b[0mW1\u001b[0m\u001b[0;34m,\u001b[0m\u001b[0mW2\u001b[0m \u001b[0;32min\u001b[0m \u001b[0mw\u001b[0m\u001b[0;34m:\u001b[0m                                         \u001b[0;31m# loop through each layer matrix\u001b[0m\u001b[0;34m\u001b[0m\u001b[0m\n\u001b[0;32m--> 100\u001b[0;31m             \u001b[0ma1\u001b[0m \u001b[0;34m=\u001b[0m \u001b[0mW1\u001b[0m\u001b[0;34m[\u001b[0m\u001b[0;36m0\u001b[0m\u001b[0;34m]\u001b[0m\u001b[0;34m[\u001b[0m\u001b[0;34m:\u001b[0m\u001b[0;34m,\u001b[0m\u001b[0mnp\u001b[0m\u001b[0;34m.\u001b[0m\u001b[0mnewaxis\u001b[0m\u001b[0;34m]\u001b[0m \u001b[0;34m+\u001b[0m \u001b[0mnp\u001b[0m\u001b[0;34m.\u001b[0m\u001b[0mdot\u001b[0m\u001b[0;34m(\u001b[0m\u001b[0ma\u001b[0m\u001b[0;34m.\u001b[0m\u001b[0mT\u001b[0m\u001b[0;34m,\u001b[0m \u001b[0mW1\u001b[0m\u001b[0;34m[\u001b[0m\u001b[0;36m1\u001b[0m\u001b[0;34m:\u001b[0m\u001b[0;34m]\u001b[0m\u001b[0;34m)\u001b[0m\u001b[0;34m.\u001b[0m\u001b[0mT\u001b[0m    \u001b[0;31m# compute inner product with current layer weights\u001b[0m\u001b[0;34m\u001b[0m\u001b[0m\n\u001b[0m\u001b[1;32m    101\u001b[0m             \u001b[0ma2\u001b[0m \u001b[0;34m=\u001b[0m \u001b[0mW2\u001b[0m\u001b[0;34m[\u001b[0m\u001b[0;36m0\u001b[0m\u001b[0;34m]\u001b[0m\u001b[0;34m[\u001b[0m\u001b[0;34m:\u001b[0m\u001b[0;34m,\u001b[0m\u001b[0mnp\u001b[0m\u001b[0;34m.\u001b[0m\u001b[0mnewaxis\u001b[0m\u001b[0;34m]\u001b[0m \u001b[0;34m+\u001b[0m \u001b[0mnp\u001b[0m\u001b[0;34m.\u001b[0m\u001b[0mdot\u001b[0m\u001b[0;34m(\u001b[0m\u001b[0ma\u001b[0m\u001b[0;34m.\u001b[0m\u001b[0mT\u001b[0m\u001b[0;34m,\u001b[0m \u001b[0mW2\u001b[0m\u001b[0;34m[\u001b[0m\u001b[0;36m1\u001b[0m\u001b[0;34m:\u001b[0m\u001b[0;34m]\u001b[0m\u001b[0;34m)\u001b[0m\u001b[0;34m.\u001b[0m\u001b[0mT\u001b[0m\u001b[0;34m\u001b[0m\u001b[0m\n\u001b[1;32m    102\u001b[0m             \u001b[0ma\u001b[0m \u001b[0;34m=\u001b[0m \u001b[0mself\u001b[0m\u001b[0;34m.\u001b[0m\u001b[0mactivation\u001b[0m\u001b[0;34m(\u001b[0m\u001b[0ma1\u001b[0m\u001b[0;34m,\u001b[0m\u001b[0ma2\u001b[0m\u001b[0;34m)\u001b[0m                          \u001b[0;31m# output of layer activation\u001b[0m\u001b[0;34m\u001b[0m\u001b[0m\n",
      "\u001b[0;31mTypeError\u001b[0m: list indices must be integers or slices, not tuple"
     ]
    },
    {
     "data": {
      "image/png": "[encoded data removed]",
      "text/plain": [
       "<matplotlib.figure.Figure at 0x7f5a3826bc88>"
      ]
     },
     "metadata": {},
     "output_type": "display_data"
    }
   ],
   "source": [
    "from dl_lib import deep_learner as DL\n",
    "import autograd.numpy as np\n",
    "\n",
    "# Import data\n",
    "csvname = \"datasets/noisy_sin_sample.csv\"\n",
    "data = np.loadtxt(csvname, delimiter = \",\")\n",
    "data = data.T\n",
    "\n",
    "# Extract inputs and outputs\n",
    "x = data[:,:-1].T\n",
    "y = data[:,-1:].T ## When using Least Squares for the cost function, remove the transpose for y\n",
    "# print(x)\n",
    "# print(y)\n",
    "\n",
    "# Initialize the network with input and output data\n",
    "dl = DL.Setup(x, y)\n",
    "\n",
    "# Choose feature transforms\n",
    "dl.choose_features(name='multilayer_perceptron', layer_sizes = [1,10,10,10,10,10], scale=0.05, activation = 'maxout')\n",
    "\n",
    "# Choose what normalizer to use\n",
    "dl.choose_normalizer(name='standard')\n",
    "\n",
    "# Choose the cost function\n",
    "dl.choose_cost(name='multiclass_softmax')\n",
    "\n",
    "# Run optimizer to find the best fit\n",
    "dl.optimize(alpha_choice=1, max_its=200)\n",
    "\n",
    "# Show cost and misclassifiction history\n",
    "dl.show_history()\n",
    "\n",
    "# Plot best fit\n",
    "dl.plot_model()\n",
    "# print(dl.model)"
   ]
  },
  {
   "cell_type": "code",
   "execution_count": null,
   "metadata": {},
   "outputs": [],
   "source": []
  }
 ],
 "metadata": {
  "kernelspec": {
   "display_name": "Python 3",
   "language": "python",
   "name": "python3"
  },
  "language_info": {
   "codemirror_mode": {
    "name": "ipython",
    "version": 3
   },
   "file_extension": ".py",
   "mimetype": "text/x-python",
   "name": "python",
   "nbconvert_exporter": "python",
   "pygments_lexer": "ipython3",
   "version": "3.6.4"
  },
  "toc": {
   "colors": {
    "hover_highlight": "#DAA520",
    "navigate_num": "#000000",
    "navigate_text": "#333333",
    "running_highlight": "#FF0000",
    "selected_highlight": "#FFD700",
    "sidebar_border": "#EEEEEE",
    "wrapper_background": "#FFFFFF"
   },
   "moveMenuLeft": true,
   "nav_menu": {
    "height": "143px",
    "width": "252px"
   },
   "navigate_menu": true,
   "number_sections": true,
   "sideBar": true,
   "threshold": 4,
   "toc_cell": false,
   "toc_section_display": "block",
   "toc_window_display": false,
   "widenNotebook": false
  },
  "widgets": {
   "application/vnd.jupyter.widget-state+json": {
    "state": {},
    "version_major": 1,
    "version_minor": 0
   }
  }
 },
 "nbformat": 4,
 "nbformat_minor": 2
}
