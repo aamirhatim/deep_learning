{
 "cells": [
  {
   "cell_type": "markdown",
   "metadata": {},
   "source": [
    "#### Name: "
   ]
  },
  {
   "cell_type": "markdown",
   "metadata": {},
   "source": [
    "# Deep learning from scratch\n",
    "## Homework 1\n",
    "### Exercise 1\n",
    "\n",
    "-----\n",
    "\n",
    "### General instructions\n",
    "\n",
    "Complete the exercise listed below in this Jupyter notebook - leaving all of your code in Python cells in the notebook itself.  Feel free to add any necessary cells. \n",
    "\n",
    "### When submitting this homework:\n",
    "\n",
    "Make sure you have put your name at the top of each file\n",
    "    \n",
    "Make sure all output is present in your notebook prior to submission\n",
    "\n",
    "----"
   ]
  },
  {
   "cell_type": "markdown",
   "metadata": {},
   "source": [
    "## <span style=\"color:#a50e3e;\">Exercise 1. </span> Computing the gradient of a simple compositional function going forward through the computational graph (20 points)"
   ]
  },
  {
   "cell_type": "markdown",
   "metadata": {},
   "source": [
    "In this Exercise, using the forward method, you will compute the gradient of $\\text{tanh}\\left(w_4+w_3\\text{tanh}\\left(w_2+w_1\\right)\\right)$, a cost function with four input variables whose computational graph is shown below. Completing this exercise should give you a sense of why automatic differentiation is necessary when dealing with cost functions associated with deep neural networks with large number of tunable parameters.  "
   ]
  },
  {
   "cell_type": "markdown",
   "metadata": {},
   "source": [
    "<p><img src=\"pics/2layer_0.png\" width=\"75%\" height=\"auto\"></p>"
   ]
  },
  {
   "cell_type": "markdown",
   "metadata": {},
   "source": [
    "-----"
   ]
  },
  {
   "cell_type": "markdown",
   "metadata": {},
   "source": [
    "<strong>Step 1:</strong> Compute $a$ and $\\nabla a$ (in terms of the input variables $w_1$ through $w_4$)\n",
    "\n",
    "<p><img src=\"pics/2layer_1.png\" width=\"75%\" height=\"auto\"></p>"
   ]
  },
  {
   "cell_type": "markdown",
   "metadata": {},
   "source": [
    "#### Your answer goes here."
   ]
  },
  {
   "cell_type": "markdown",
   "metadata": {},
   "source": [
    "$a=w_1+w_2$\n",
    "\n",
    "$\n",
    "\\nabla a=\\begin {bmatrix}\n",
    "            \\frac{\\partial a}{dw_1}\\\\\n",
    "            \\frac{\\partial a}{dw_2}\\\\\n",
    "            \\frac{\\partial a}{dw_3}\\\\\n",
    "            \\frac{\\partial a}{dw_4}\n",
    "           \\end {bmatrix}\n",
    "          =\\begin {bmatrix}\n",
    "              1\\\\\n",
    "              1\\\\\n",
    "              0\\\\\n",
    "              0\n",
    "            \\end {bmatrix}\n",
    "$"
   ]
  },
  {
   "cell_type": "markdown",
   "metadata": {},
   "source": [
    "<strong>Step 2:</strong> Compute $b$ and $\\nabla b$ (in terms of the input variables $w_1$ through $w_4$)\n",
    "\n",
    "<p><img src=\"pics/2layer_2.png\" width=\"75%\" height=\"auto\"></p>"
   ]
  },
  {
   "cell_type": "markdown",
   "metadata": {},
   "source": [
    "#### Your answer goes here. "
   ]
  },
  {
   "cell_type": "markdown",
   "metadata": {},
   "source": [
    "$b=tanh(a)=tanh(w_1+w_2)$\n",
    "\n",
    "$\n",
    "\\nabla b=\\begin {bmatrix}\n",
    "            \\frac{\\partial b}{dw_1}\\\\\n",
    "            \\frac{\\partial b}{dw_2}\\\\\n",
    "            \\frac{\\partial b}{dw_3}\\\\\n",
    "            \\frac{\\partial b}{dw_4}\n",
    "         \\end {bmatrix}\n",
    "$\n",
    "\n",
    "$\\frac{\\partial b}{\\partial w_1}=\\frac{\\partial b}{\\partial a} \\frac{\\partial a}{\\partial w_1}\n",
    "=1-tanh^2(w_1+w_2)$\n",
    "\n",
    "$\\frac{\\partial b}{\\partial w_2}=\\frac{\\partial b}{\\partial a} \\frac{\\partial a}{\\partial w_2}\n",
    "=1-tanh^2(w_1+w_2)$\n",
    "\n",
    "$\\frac{\\partial b}{\\partial w_3}=\\frac{\\partial b}{\\partial a} \\frac{\\partial a}{\\partial w_3}\n",
    "=0$\n",
    "\n",
    "$\\frac{\\partial b}{\\partial w_4}=\\frac{\\partial b}{\\partial a} \\frac{\\partial a}{\\partial w_4}\n",
    "=0$"
   ]
  },
  {
   "cell_type": "markdown",
   "metadata": {},
   "source": [
    "<strong>Step 3:</strong> Compute $c$ and $\\nabla c$ (in terms of the input variables $w_1$ through $w_4$)\n",
    "\n",
    "<p><img src=\"pics/2layer_3.png\" width=\"75%\" height=\"auto\"></p>"
   ]
  },
  {
   "cell_type": "markdown",
   "metadata": {},
   "source": [
    "#### Your answer goes here. \n"
   ]
  },
  {
   "cell_type": "markdown",
   "metadata": {},
   "source": [
    "$c=w_3(b)=w_3(tanh(w_1+w_2))$\n",
    "\n",
    "$\n",
    "\\nabla c=\\begin {bmatrix}\n",
    "            \\frac{\\partial c}{dw_1}\\\\\n",
    "            \\frac{\\partial c}{dw_2}\\\\\n",
    "            \\frac{\\partial c}{dw_3}\\\\\n",
    "            \\frac{\\partial c}{dw_4}\n",
    "         \\end {bmatrix}\n",
    "$\n",
    "\n",
    "$\\frac{\\partial c}{dw_1}=\\frac{\\partial c}{\\partial w_3}\\frac{\\partial w_3}{\\partial w_1}\n",
    "+\\frac{\\partial c}{\\partial b}\\frac{\\partial b}{\\partial w_1}\n",
    "=w_3(1-tanh^2(w_1+w_2))$\n",
    "\n",
    "$\\frac{\\partial c}{dw_2}=\\frac{\\partial c}{\\partial w_3}\\frac{\\partial w_3}{\\partial w_2}\n",
    "+\\frac{\\partial c}{\\partial b}\\frac{\\partial b}{\\partial w_2}\n",
    "=w_3(1-tanh^2(w_1+w_2))$\n",
    "\n",
    "$\\frac{\\partial c}{dw_3}=\\frac{\\partial c}{\\partial w_3}\\frac{\\partial w_3}{\\partial w_3}\n",
    "+\\frac{\\partial c}{\\partial b}\\frac{\\partial b}{\\partial w_3}\n",
    "=tanh(w_1+w_2)$\n",
    "\n",
    "$\\frac{\\partial c}{dw_4}=\\frac{\\partial c}{\\partial w_3}\\frac{\\partial w_3}{\\partial w_4}\n",
    "+\\frac{\\partial c}{\\partial b}\\frac{\\partial b}{\\partial w_4}\n",
    "=0$"
   ]
  },
  {
   "cell_type": "markdown",
   "metadata": {},
   "source": [
    "<strong>Step 4:</strong> Compute $d$ and $\\nabla d$ (in terms of the input variables $w_1$ through $w_4$)\n",
    "\n",
    "<p><img src=\"pics/2layer_4.png\" width=\"75%\" height=\"auto\"></p>"
   ]
  },
  {
   "cell_type": "markdown",
   "metadata": {},
   "source": [
    "#### Your answer goes here. \n"
   ]
  },
  {
   "cell_type": "markdown",
   "metadata": {},
   "source": [
    "$d=w_4+c=w_4+w_3(tanh(w_1+w_2))$\n",
    "\n",
    "$\n",
    "\\nabla d=\\begin {bmatrix}\n",
    "            \\frac{\\partial d}{\\partial w_1}\\\\\n",
    "            \\frac{\\partial d}{\\partial w_2}\\\\\n",
    "            \\frac{\\partial d}{\\partial w_3}\\\\\n",
    "            \\frac{\\partial d}{\\partial w_4}\n",
    "         \\end {bmatrix}\n",
    "$\n",
    "\n",
    "$\\frac{\\partial d}{\\partial w_1}=\\frac{\\partial d}{\\partial w_4}\\frac{\\partial w_4}{\\partial w_1}\n",
    "+\\frac{\\partial d}{\\partial c}\\frac{\\partial c}{\\partial w_1}\n",
    "=w_3(1-tanh^2(w_1+w_2))$\n",
    "\n",
    "$\\frac{\\partial d}{\\partial w_2}=\\frac{\\partial d}{\\partial w_4}\\frac{\\partial w_4}{\\partial w_2}\n",
    "+\\frac{\\partial d}{\\partial c}\\frac{\\partial c}{\\partial w_2}\n",
    "=w_3(1-tanh^2(w_1+w_2))$\n",
    "\n",
    "$\\frac{\\partial d}{\\partial w_3}=\\frac{\\partial d}{\\partial w_4}\\frac{\\partial w_4}{\\partial w_3}\n",
    "+\\frac{\\partial d}{\\partial c}\\frac{\\partial c}{\\partial w_3}\n",
    "=tanh(w_1+w_2)$\n",
    "\n",
    "$\\frac{\\partial d}{\\partial w_4}=\\frac{\\partial d}{\\partial w_4}\\frac{\\partial w_4}{\\partial w_4}\n",
    "+\\frac{\\partial d}{\\partial c}\\frac{\\partial c}{\\partial w_4}\n",
    "=1$"
   ]
  },
  {
   "cell_type": "markdown",
   "metadata": {},
   "source": [
    "<strong>Step 5:</strong> Compute $e$ and $\\nabla e$ (in terms of the input variables $w_1$ through $w_4$)\n",
    "\n",
    "<p><img src=\"pics/2layer_5.png\" width=\"75%\" height=\"auto\"></p>"
   ]
  },
  {
   "cell_type": "markdown",
   "metadata": {},
   "source": [
    "#### Your answer goes here.\n"
   ]
  },
  {
   "cell_type": "markdown",
   "metadata": {},
   "source": [
    "$e=tanh(d)=tanh(w_4+w_3(tanh(w_1+w_2)))$\n",
    "\n",
    "$\n",
    "\\nabla e=\\begin {bmatrix}\n",
    "            \\frac{\\partial e}{\\partial w_1}\\\\\n",
    "            \\frac{\\partial e}{\\partial w_2}\\\\\n",
    "            \\frac{\\partial e}{\\partial w_3}\\\\\n",
    "            \\frac{\\partial e}{\\partial w_4}\n",
    "         \\end {bmatrix}\n",
    "$ \n",
    "\n",
    "$\\frac{\\partial e}{\\partial w_1}=\\frac{\\partial e}{\\partial d}\\frac{\\partial d}{\\partial w_1}\n",
    "=(1-tanh(d))(w_3(1-tanh^2(w_1+w_2)))=(1-tanh(w_4+w_3(tanh(w_1+w_2))))(w_3(1-tanh^2(w_1+w_2)))$\n",
    "\n",
    "$\\frac{\\partial e}{\\partial w_1}=\\frac{\\partial e}{\\partial d}\\frac{\\partial d}{\\partial w_2}\n",
    "=(1-tanh(d))(w_3(1-tanh^2(w_1+w_2)))=(1-tanh(w_4+w_3(tanh(w_1+w_2))))(w_3(1-tanh^2(w_1+w_2)))$\n",
    "\n",
    "$\\frac{\\partial e}{\\partial w_1}=\\frac{\\partial e}{\\partial d}\\frac{\\partial d}{\\partial w_3}\n",
    "=(1-tanh(d))(tanh(w_1+w_2))$\n",
    "\n",
    "$\\frac{\\partial e}{\\partial w_1}=\\frac{\\partial e}{\\partial d}\\frac{\\partial d}{\\partial w_4}\n",
    "=1-tanh(d)=1-tanh(w_4+w_3(tanh(w_1+w_2)))$"
   ]
  }
 ],
 "metadata": {
  "kernelspec": {
   "display_name": "Python 3",
   "language": "python",
   "name": "python3"
  },
  "language_info": {
   "codemirror_mode": {
    "name": "ipython",
    "version": 3
   },
   "file_extension": ".py",
   "mimetype": "text/x-python",
   "name": "python",
   "nbconvert_exporter": "python",
   "pygments_lexer": "ipython3",
   "version": "3.6.4"
  },
  "toc": {
   "colors": {
    "hover_highlight": "#DAA520",
    "navigate_num": "#000000",
    "navigate_text": "#333333",
    "running_highlight": "#FF0000",
    "selected_highlight": "#FFD700",
    "sidebar_border": "#EEEEEE",
    "wrapper_background": "#FFFFFF"
   },
   "moveMenuLeft": true,
   "nav_menu": {
    "height": "121px",
    "width": "252px"
   },
   "navigate_menu": true,
   "number_sections": false,
   "sideBar": true,
   "threshold": 4,
   "toc_cell": false,
   "toc_section_display": "block",
   "toc_window_display": false,
   "widenNotebook": false
  },
  "widgets": {
   "application/vnd.jupyter.widget-state+json": {
    "state": {},
    "version_major": 1,
    "version_minor": 0
   }
  }
 },
 "nbformat": 4,
 "nbformat_minor": 2
}
