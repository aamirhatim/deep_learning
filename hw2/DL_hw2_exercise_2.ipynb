{
 "cells": [
  {
   "cell_type": "markdown",
   "metadata": {},
   "source": [
    "#### Name: Aamir Husain"
   ]
  },
  {
   "cell_type": "markdown",
   "metadata": {},
   "source": [
    "# Deep learning from scratch\n",
    "## Homework 2\n",
    "### Exercise 2\n",
    "\n",
    "-----\n",
    "\n",
    "### General instructions\n",
    "\n",
    "Complete the exercise listed below in this Jupyter notebook - leaving all of your code in Python cells in the notebook itself.  Feel free to add any necessary cells. \n",
    "\n",
    "### When submitting this homework:\n",
    "\n",
    "Make sure you have put your name at the top of each file\n",
    "    \n",
    "Make sure all output is present in your notebook prior to submission\n",
    "\n",
    "----"
   ]
  },
  {
   "cell_type": "code",
   "execution_count": 2,
   "metadata": {},
   "outputs": [],
   "source": [
    "# import necessary library for this exercise\n",
    "import autograd.numpy as np   \n",
    "from autograd import value_and_grad \n",
    "import matplotlib.pyplot as plt"
   ]
  },
  {
   "cell_type": "markdown",
   "metadata": {},
   "source": [
    "## <span style=\"color:#a50e3e;\">Exercise 2. </span>  Perform two-class classification on a breast cancer dataset (10 points)"
   ]
  },
  {
   "cell_type": "markdown",
   "metadata": {},
   "source": [
    "In this exercise you will repeat the experiment shown in [Section 9.4 of the class notes](https://jermwatt.github.io/mlrefined/blog_posts/9_Linear_twoclass_classification/9_4_Feature_scaling.html) comparing a run of gradient descent on standard and normalized data for two class classification using a real $N=8$ input breast cancer dataset, [a description of which you can find here](https://archive.ics.uci.edu/ml/machine-learning-databases/breast-cancer-wisconsin/breast-cancer-wisconsin.names).  You should repeat this experiment precisely: including using the same number of steps for each run, the same steplength values and initializations, and by producing the same cost funciton / misclassification history plots for each run of gradient descent.  This dataset is loaded in the cell below."
   ]
  },
  {
   "cell_type": "code",
   "execution_count": 24,
   "metadata": {},
   "outputs": [],
   "source": [
    "# data input\n",
    "data = np.loadtxt('data/breast_cancer_data.csv',delimiter = ',')\n",
    "\n",
    "# get input and output of dataset\n",
    "x = data[:,:-1].T\n",
    "y = data[:,-1:].T\n",
    "\n",
    "# # scatter plot the input data\n",
    "# plt.figure()\n",
    "# plt.scatter(x,y,color = 'k',edgecolor = 'w')\n",
    "# plt.show()\n",
    "\n",
    "w0 = 0.1*np.random.randn(x.shape[0]+1,1)"
   ]
  },
  {
   "cell_type": "markdown",
   "metadata": {},
   "source": [
    "Note that you can find effecient `Python` implementations of both the softmax cost function [in Section 9.1.2](https://jermwatt.github.io/mlrefined/blog_posts/9_Linear_twoclass_classification/9_1_Logistic_regression.html) and the counting cost (for producing the number of misclassifications) [in Section 9.1.4](https://jermwatt.github.io/mlrefined/blog_posts/9_Linear_twoclass_classification/9_1_Logistic_regression.html) of the course notes.  Use these to produce both a plot of the cost function and misclassification count history for each run of gradient descent as shown in the example."
   ]
  },
  {
   "cell_type": "code",
   "execution_count": 3,
   "metadata": {},
   "outputs": [],
   "source": [
    "# Define necessary functions\n",
    "\n",
    "# Linear combination of input points\n",
    "def model(x,w):\n",
    "    a = w[0] + np.dot(x.T,w[1:])\n",
    "    return a.T\n",
    "\n",
    "# Softmax cost function\n",
    "def softmax(x,y,w):\n",
    "    cost = np.sum(np.log(1 + np.exp(-y*model(x,w))))\n",
    "    return cost/float(np.size(y))\n",
    "\n",
    "# Counting cost function\n",
    "def counting_cost(x,y,w):\n",
    "    cost = np.sum((np.sign(model(x,w)) - y)**2)\n",
    "    return 0.25*cost \n",
    "\n",
    "# Gradient descent\n",
    "def gradient_descent(g,alpha_choice,max_its,w):\n",
    "    gradient = value_and_grad(g)\n",
    "\n",
    "    # run the gradient descent loop\n",
    "    weight_history = []      # container for weight history\n",
    "    cost_history = []        # container for corresponding cost function history\n",
    "    alpha = 0\n",
    "    for k in range(1,max_its+1):\n",
    "        # check if diminishing steplength rule used\n",
    "        if alpha_choice == 'diminishing':\n",
    "            alpha = 1/float(k)\n",
    "        else:\n",
    "            alpha = alpha_choice\n",
    "        \n",
    "        # evaluate the gradient, store current weights and cost function value\n",
    "        cost_eval,grad_eval = gradient(w)\n",
    "        weight_history.append(w)\n",
    "        cost_history.append(cost_eval)\n",
    "\n",
    "        # take gradient descent step\n",
    "        w = w - alpha*grad_eval\n",
    "            \n",
    "    # collect final weights\n",
    "    weight_history.append(w)\n",
    "    # compute final cost function value via g itself (since we aren't computing \n",
    "    # the gradient at the final step we don't get the final cost function value \n",
    "    # via the Automatic Differentiatoor) \n",
    "    cost_history.append(g(w))  \n",
    "    return weight_history,cost_history\n",
    "\n",
    "# Standard normalization function \n",
    "def standard_normalizer(x):\n",
    "    # compute the mean and standard deviation of the input\n",
    "    x_means = np.mean(x,axis = 1)[:,np.newaxis]\n",
    "    x_stds = np.std(x,axis = 1)[:,np.newaxis]   \n",
    "\n",
    "    # check to make sure thta x_stds > small threshold, for those not\n",
    "    # divide by 1 instead of original standard deviation\n",
    "    ind = np.argwhere(x_stds < 10**(-2))\n",
    "    if len(ind) > 0:\n",
    "        ind = [v[0] for v in ind]\n",
    "        adjust = np.zeros((x_stds.shape))\n",
    "        adjust[ind] = 1.0\n",
    "        x_stds += adjust\n",
    "\n",
    "    # create standard normalizer function\n",
    "    normalizer = lambda data: (data - x_means)/x_stds\n",
    "\n",
    "    # create inverse standard normalizer\n",
    "    inverse_normalizer = lambda data: data*x_stds + x_means\n",
    "\n",
    "    # return normalizer \n",
    "    return normalizer,inverse_normalizer"
   ]
  },
  {
   "cell_type": "code",
   "execution_count": 4,
   "metadata": {},
   "outputs": [],
   "source": [
    "## Gradient descent on original input\n",
    "gamma = 1\n",
    "a = 10**(-gamma)\n",
    "iterations = 100\n",
    "w0 = 0.1*np.random.randn(x.shape[0]+1,1)\n",
    "g1 = lambda w: softmax(x,y,w)\n",
    "c1 = lambda w: counting_cost(x,y,w)\n",
    "weights, costs = gradient_descent(g1, a, iterations, w0)\n",
    "counts = [c1(v) for v in weights]\n",
    "\n",
    "## Gradient descent on normalized input\n",
    "normalizer,inverse_normalizer = standard_normalizer(x)\n",
    "x_norm = normalizer(x)\n",
    "\n",
    "gamma = 1\n",
    "a = 10**(-gamma)\n",
    "iterations = 100\n",
    "g2 = lambda w: softmax(x_norm,y,w)\n",
    "c2 = lambda w: counting_cost(x_norm,y,w)\n",
    "weights_norm, costs_norm = gradient_descent(g2, a, iterations, w0)\n",
    "counts_norm = [c2(v) for v in weights_norm]"
   ]
  },
  {
   "cell_type": "code",
   "execution_count": 5,
   "metadata": {},
   "outputs": [
    {
     "data": {
      "image/png": "[encoded data removed]",
      "text/plain": [
       "<matplotlib.figure.Figure at 0x7fccd5255dd8>"
      ]
     },
     "metadata": {},
     "output_type": "display_data"
    },
    {
     "data": {
      "image/png": "[encoded data removed]",
      "text/plain": [
       "<matplotlib.figure.Figure at 0x7fcccc8dd748>"
      ]
     },
     "metadata": {},
     "output_type": "display_data"
    }
   ],
   "source": [
    "## Plot cost history\n",
    "plt.figure()\n",
    "plt.plot(np.linspace(1,iterations+1,iterations+1), costs, label = \"Original\")\n",
    "plt.plot(np.linspace(1,iterations+1,iterations+1), costs_norm, label = \"Normalized\")\n",
    "plt.title(\"Cost Function History\")\n",
    "plt.xlabel(\"Iteration\")\n",
    "plt.ylabel(\"Cost\")\n",
    "plt.legend(title = \"Input\", loc = \"upper right\")\n",
    "plt.show\n",
    "\n",
    "## Plot misclassification history\n",
    "plt.figure()\n",
    "plt.plot(np.linspace(1,iterations+1,iterations+1), counts, label = \"Original\")\n",
    "plt.plot(np.linspace(1,iterations+1,iterations+1), counts_norm, label = \"Normalized\")\n",
    "plt.title(\"Misclassification History\")\n",
    "plt.xlabel(\"Iteration\")\n",
    "plt.ylabel(\"Misclassifications\")\n",
    "plt.legend(title = \"Input\", loc = \"upper right\")\n",
    "plt.show()"
   ]
  },
  {
   "cell_type": "code",
   "execution_count": null,
   "metadata": {},
   "outputs": [],
   "source": []
  }
 ],
 "metadata": {
  "anaconda-cloud": {},
  "kernelspec": {
   "display_name": "Python 3",
   "language": "python",
   "name": "python3"
  },
  "language_info": {
   "codemirror_mode": {
    "name": "ipython",
    "version": 3
   },
   "file_extension": ".py",
   "mimetype": "text/x-python",
   "name": "python",
   "nbconvert_exporter": "python",
   "pygments_lexer": "ipython3",
   "version": "3.6.4"
  },
  "toc": {
   "colors": {
    "hover_highlight": "#DAA520",
    "navigate_num": "#000000",
    "navigate_text": "#333333",
    "running_highlight": "#FF0000",
    "selected_highlight": "#FFD700",
    "sidebar_border": "#EEEEEE",
    "wrapper_background": "#FFFFFF"
   },
   "moveMenuLeft": true,
   "nav_menu": {
    "height": "30px",
    "width": "252px"
   },
   "navigate_menu": true,
   "number_sections": false,
   "sideBar": true,
   "threshold": 4,
   "toc_cell": false,
   "toc_section_display": "block",
   "toc_window_display": false,
   "widenNotebook": false
  }
 },
 "nbformat": 4,
 "nbformat_minor": 1
}
